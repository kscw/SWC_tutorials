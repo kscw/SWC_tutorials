{
 "metadata": {
  "name": "bootcamp_day1 python1"
 }, 
 "nbformat": 2, 
 "worksheets": [
  {
   "cells": [
    {
     "cell_type": "code", 
     "collapsed": false, 
     "input": [
      "20 %9"
     ], 
     "language": "python", 
     "outputs": [
      {
       "output_type": "pyout", 
       "prompt_number": 2, 
       "text": [
        "2"
       ]
      }
     ], 
     "prompt_number": 2
    }, 
    {
     "cell_type": "code", 
     "collapsed": false, 
     "input": [
      "20/4."
     ], 
     "language": "python", 
     "outputs": [
      {
       "output_type": "pyout", 
       "prompt_number": 5, 
       "text": [
        "5.0"
       ]
      }
     ], 
     "prompt_number": 5
    }, 
    {
     "cell_type": "code", 
     "collapsed": false, 
     "input": [
      "False"
     ], 
     "language": "python", 
     "outputs": [
      {
       "output_type": "pyout", 
       "prompt_number": 6, 
       "text": [
        "False"
       ]
      }
     ], 
     "prompt_number": 6
    }, 
    {
     "cell_type": "code", 
     "collapsed": false, 
     "input": [
      "True"
     ], 
     "language": "python", 
     "outputs": [
      {
       "output_type": "pyout", 
       "prompt_number": 7, 
       "text": [
        "True"
       ]
      }
     ], 
     "prompt_number": 7
    }, 
    {
     "cell_type": "code", 
     "collapsed": false, 
     "input": [
      "float('7.5')+float('6')"
     ], 
     "language": "python", 
     "outputs": [
      {
       "output_type": "pyout", 
       "prompt_number": 11, 
       "text": [
        "13.5"
       ]
      }
     ], 
     "prompt_number": 11
    }, 
    {
     "cell_type": "code", 
     "collapsed": true, 
     "input": [
      "a = 5"
     ], 
     "language": "python", 
     "outputs": [], 
     "prompt_number": 12
    }, 
    {
     "cell_type": "code", 
     "collapsed": false, 
     "input": [
      "a"
     ], 
     "language": "python", 
     "outputs": [
      {
       "output_type": "pyout", 
       "prompt_number": 13, 
       "text": [
        "5"
       ]
      }
     ], 
     "prompt_number": 13
    }, 
    {
     "cell_type": "code", 
     "collapsed": false, 
     "input": [
      "print a"
     ], 
     "language": "python", 
     "outputs": [
      {
       "output_type": "stream", 
       "stream": "stdout", 
       "text": [
        "5"
       ]
      }
     ], 
     "prompt_number": 14
    }, 
    {
     "cell_type": "code", 
     "collapsed": false, 
     "input": [
      "print a, 6, 'six'"
     ], 
     "language": "python", 
     "outputs": [
      {
       "output_type": "stream", 
       "stream": "stdout", 
       "text": [
        "5 6 six"
       ]
      }
     ], 
     "prompt_number": 15
    }, 
    {
     "cell_type": "code", 
     "collapsed": true, 
     "input": [
      "l = ['zero', 1, 2.0, '3',4,5.0,'six']"
     ], 
     "language": "python", 
     "outputs": [], 
     "prompt_number": 16
    }, 
    {
     "cell_type": "code", 
     "collapsed": false, 
     "input": [
      "l"
     ], 
     "language": "python", 
     "outputs": [
      {
       "output_type": "pyout", 
       "prompt_number": 17, 
       "text": [
        "['zero', 1, 2.0, '3', 4, 5.0, 'six']"
       ]
      }
     ], 
     "prompt_number": 17
    }, 
    {
     "cell_type": "code", 
     "collapsed": false, 
     "input": [
      "l[0]"
     ], 
     "language": "python", 
     "outputs": [
      {
       "output_type": "pyout", 
       "prompt_number": 18, 
       "text": [
        "'zero'"
       ]
      }
     ], 
     "prompt_number": 18
    }, 
    {
     "cell_type": "code", 
     "collapsed": false, 
     "input": [
      "float(l[3])"
     ], 
     "language": "python", 
     "outputs": [
      {
       "output_type": "pyout", 
       "prompt_number": 20, 
       "text": [
        "3.0"
       ]
      }
     ], 
     "prompt_number": 20
    }, 
    {
     "cell_type": "code", 
     "collapsed": false, 
     "input": [
      "len(l)"
     ], 
     "language": "python", 
     "outputs": [
      {
       "output_type": "pyout", 
       "prompt_number": 21, 
       "text": [
        "7"
       ]
      }
     ], 
     "prompt_number": 21
    }, 
    {
     "cell_type": "code", 
     "collapsed": false, 
     "input": [
      "l[1:4]"
     ], 
     "language": "python", 
     "outputs": [
      {
       "output_type": "pyout", 
       "prompt_number": 23, 
       "text": [
        "[1, 2.0, '3']"
       ]
      }
     ], 
     "prompt_number": 23
    }, 
    {
     "cell_type": "code", 
     "collapsed": false, 
     "input": [
      "l[4:]"
     ], 
     "language": "python", 
     "outputs": [
      {
       "output_type": "pyout", 
       "prompt_number": 24, 
       "text": [
        "[4, 5.0, 'six']"
       ]
      }
     ], 
     "prompt_number": 24
    }, 
    {
     "cell_type": "code", 
     "collapsed": false, 
     "input": [
      "l[:4]"
     ], 
     "language": "python", 
     "outputs": [
      {
       "output_type": "pyout", 
       "prompt_number": 25, 
       "text": [
        "['zero', 1, 2.0, '3']"
       ]
      }
     ], 
     "prompt_number": 25
    }, 
    {
     "cell_type": "code", 
     "collapsed": false, 
     "input": [
      "l[:5]"
     ], 
     "language": "python", 
     "outputs": [
      {
       "output_type": "pyout", 
       "prompt_number": 26, 
       "text": [
        "['zero', 1, 2.0, '3', 4]"
       ]
      }
     ], 
     "prompt_number": 26
    }, 
    {
     "cell_type": "code", 
     "collapsed": true, 
     "input": [
      "l[1] += 99"
     ], 
     "language": "python", 
     "outputs": [], 
     "prompt_number": 27
    }, 
    {
     "cell_type": "code", 
     "collapsed": false, 
     "input": [
      "l"
     ], 
     "language": "python", 
     "outputs": [
      {
       "output_type": "pyout", 
       "prompt_number": 28, 
       "text": [
        "['zero', 100, 2.0, '3', 4, 5.0, 'six']"
       ]
      }
     ], 
     "prompt_number": 28
    }, 
    {
     "cell_type": "code", 
     "collapsed": true, 
     "input": [
      "t = ('zero',1,2.0)"
     ], 
     "language": "python", 
     "outputs": [], 
     "prompt_number": 29
    }, 
    {
     "cell_type": "code", 
     "collapsed": false, 
     "input": [
      "t"
     ], 
     "language": "python", 
     "outputs": [
      {
       "output_type": "pyout", 
       "prompt_number": 30, 
       "text": [
        "('zero', 1, 2.0)"
       ]
      }
     ], 
     "prompt_number": 30
    }, 
    {
     "cell_type": "code", 
     "collapsed": false, 
     "input": [
      "t[0:]"
     ], 
     "language": "python", 
     "outputs": [
      {
       "output_type": "pyout", 
       "prompt_number": 33, 
       "text": [
        "('zero', 1, 2.0)"
       ]
      }
     ], 
     "prompt_number": 33
    }, 
    {
     "cell_type": "code", 
     "collapsed": false, 
     "input": [
      "t[1.5:]"
     ], 
     "language": "python", 
     "outputs": [
      {
       "ename": "TypeError", 
       "evalue": "slice indices must be integers or None or have an __index__ method", 
       "output_type": "pyerr", 
       "traceback": [
        "\u001b[0;31m---------------------------------------------------------------------------\u001b[0m\n\u001b[0;31mTypeError\u001b[0m                                 Traceback (most recent call last)", 
        "\u001b[0;32m/home/swc/SWC-bootcamp/2-PythonIntro/<ipython-input-34-99dcb10d41be>\u001b[0m in \u001b[0;36m<module>\u001b[0;34m()\u001b[0m\n\u001b[0;32m----> 1\u001b[0;31m \u001b[0mt\u001b[0m\u001b[0;34m[\u001b[0m\u001b[0;36m1.5\u001b[0m\u001b[0;34m:\u001b[0m\u001b[0;34m]\u001b[0m\u001b[0;34m\u001b[0m\u001b[0m\n\u001b[0m", 
        "\u001b[0;31mTypeError\u001b[0m: slice indices must be integers or None or have an __index__ method"
       ]
      }
     ], 
     "prompt_number": 34
    }, 
    {
     "cell_type": "code", 
     "collapsed": false, 
     "input": [
      "l[1:]"
     ], 
     "language": "python", 
     "outputs": [
      {
       "output_type": "pyout", 
       "prompt_number": 36, 
       "text": [
        "[100, 2.0, '3', 4, 5.0, 'six']"
       ]
      }
     ], 
     "prompt_number": 36
    }, 
    {
     "cell_type": "code", 
     "collapsed": true, 
     "input": [
      "d = { 'first': 'alpha', 'two':2, 2: 'two'}"
     ], 
     "language": "python", 
     "outputs": [], 
     "prompt_number": 37
    }, 
    {
     "cell_type": "code", 
     "collapsed": false, 
     "input": [
      "d"
     ], 
     "language": "python", 
     "outputs": [
      {
       "output_type": "pyout", 
       "prompt_number": 38, 
       "text": [
        "{2: 'two', 'first': 'alpha', 'two': 2}"
       ]
      }
     ], 
     "prompt_number": 38
    }, 
    {
     "cell_type": "code", 
     "collapsed": false, 
     "input": [
      "d['first']"
     ], 
     "language": "python", 
     "outputs": [
      {
       "output_type": "pyout", 
       "prompt_number": 39, 
       "text": [
        "'alpha'"
       ]
      }
     ], 
     "prompt_number": 39
    }, 
    {
     "cell_type": "code", 
     "collapsed": false, 
     "input": [
      "d['two']"
     ], 
     "language": "python", 
     "outputs": [
      {
       "output_type": "pyout", 
       "prompt_number": 40, 
       "text": [
        "2"
       ]
      }
     ], 
     "prompt_number": 40
    }, 
    {
     "cell_type": "code", 
     "collapsed": false, 
     "input": [
      "d[2]"
     ], 
     "language": "python", 
     "outputs": [
      {
       "output_type": "pyout", 
       "prompt_number": 41, 
       "text": [
        "'two'"
       ]
      }
     ], 
     "prompt_number": 41
    }, 
    {
     "cell_type": "code", 
     "collapsed": true, 
     "input": [
      "d['hi'] = 'SC'"
     ], 
     "language": "python", 
     "outputs": [], 
     "prompt_number": 42
    }, 
    {
     "cell_type": "code", 
     "collapsed": false, 
     "input": [
      "d['hi']"
     ], 
     "language": "python", 
     "outputs": [
      {
       "output_type": "pyout", 
       "prompt_number": 43, 
       "text": [
        "'SC'"
       ]
      }
     ], 
     "prompt_number": 43
    }, 
    {
     "cell_type": "code", 
     "collapsed": false, 
     "input": [
      "print d"
     ], 
     "language": "python", 
     "outputs": [
      {
       "output_type": "stream", 
       "stream": "stdout", 
       "text": [
        "{2: 'two', 'hi': 'SC', 'two': 2, 'first': 'alpha'}"
       ]
      }
     ], 
     "prompt_number": 44
    }, 
    {
     "cell_type": "code", 
     "collapsed": false, 
     "input": [
      "d"
     ], 
     "language": "python", 
     "outputs": [
      {
       "output_type": "pyout", 
       "prompt_number": 45, 
       "text": [
        "{2: 'two', 'first': 'alpha', 'hi': 'SC', 'two': 2}"
       ]
      }
     ], 
     "prompt_number": 45
    }, 
    {
     "cell_type": "code", 
     "collapsed": false, 
     "input": [
      "len(d)"
     ], 
     "language": "python", 
     "outputs": [
      {
       "output_type": "pyout", 
       "prompt_number": 46, 
       "text": [
        "4"
       ]
      }
     ], 
     "prompt_number": 46
    }, 
    {
     "cell_type": "code", 
     "collapsed": false, 
     "input": [
      "x = -5", 
      "if x < 0:", 
      "    ", 
      "        "
     ], 
     "language": "python", 
     "outputs": [
      {
       "output_type": "stream", 
       "stream": "stdout", 
       "text": [
        "x is negative", 
        "now what?"
       ]
      }
     ], 
     "prompt_number": 51
    }, 
    {
     "cell_type": "code", 
     "collapsed": false, 
     "input": [
      "x = 5", 
      "if x < 0:", 
      "    print 'x is negative'", 
      "elif x > 0:", 
      "    print 'x is positive'", 
      "    print 'maybe'", 
      "elif x == 0:", 
      "    print 'x is zero'"
     ], 
     "language": "python", 
     "outputs": [
      {
       "output_type": "stream", 
       "stream": "stdout", 
       "text": [
        "x is positive", 
        "maybe"
       ]
      }
     ], 
     "prompt_number": 55
    }, 
    {
     "cell_type": "code", 
     "collapsed": false, 
     "input": [
      "fruits = ['apples','oranges','pears','bananas']", 
      "fruits[0]"
     ], 
     "language": "python", 
     "outputs": [
      {
       "output_type": "pyout", 
       "prompt_number": 56, 
       "text": [
        "'apples'"
       ]
      }
     ], 
     "prompt_number": 56
    }, 
    {
     "cell_type": "code", 
     "collapsed": false, 
     "input": [
      "i = 0", 
      "while i < len(fruits):", 
      "    print fruits[i]", 
      "    i += 1"
     ], 
     "language": "python", 
     "outputs": [
      {
       "output_type": "stream", 
       "stream": "stdout", 
       "text": [
        "apples", 
        "oranges", 
        "pears", 
        "bananas"
       ]
      }
     ], 
     "prompt_number": 58
    }, 
    {
     "cell_type": "code", 
     "collapsed": false, 
     "input": [
      "for fruit in fruits:", 
      "    print fruit"
     ], 
     "language": "python", 
     "outputs": [
      {
       "output_type": "stream", 
       "stream": "stdout", 
       "text": [
        "apples"
       ]
      }, 
      {
       "output_type": "stream", 
       "stream": "stdout", 
       "text": [
        "oranges", 
        "pears", 
        "bananas"
       ]
      }
     ], 
     "prompt_number": 59
    }, 
    {
     "cell_type": "code", 
     "collapsed": false, 
     "input": [
      "for i in range(1,len(fruits),2):", 
      "    print i"
     ], 
     "language": "python", 
     "outputs": [
      {
       "output_type": "stream", 
       "stream": "stdout", 
       "text": [
        "1", 
        "3"
       ]
      }
     ], 
     "prompt_number": 62
    }, 
    {
     "cell_type": "code", 
     "collapsed": false, 
     "input": [
      "prices = [.49,.99,1.49,0.32]", 
      "for fruit, price in zip(fruits, prices):", 
      "    print fruit, \"cost\", price, \"each\""
     ], 
     "language": "python", 
     "outputs": [
      {
       "output_type": "stream", 
       "stream": "stdout", 
       "text": [
        "apples cost 0.49 each", 
        "oranges cost 0.99 each", 
        "pears cost 1.49 each", 
        "bananas cost 0.32 each"
       ]
      }
     ], 
     "prompt_number": 66
    }, 
    {
     "cell_type": "code", 
     "collapsed": false, 
     "input": [
      "\"%s cost %f each\" % (fruit,price)"
     ], 
     "language": "python", 
     "outputs": [
      {
       "output_type": "pyout", 
       "prompt_number": 67, 
       "text": [
        "'bananas cost 0.320000 each'"
       ]
      }
     ], 
     "prompt_number": 67
    }, 
    {
     "cell_type": "code", 
     "collapsed": false, 
     "input": [
      "prices = { 'apples': 0.49, 'oranges':0.99,'pears':1.49,'bananas':0.32}"
     ], 
     "language": "python", 
     "outputs": [], 
     "prompt_number": 72
    }, 
    {
     "cell_type": "code", 
     "collapsed": false, 
     "input": [
      "for fruit,price in prices.items():", 
      "    print fruit, price"
     ], 
     "language": "python", 
     "outputs": [
      {
       "output_type": "stream", 
       "stream": "stdout", 
       "text": [
        "pears 1.49", 
        "apples 0.49", 
        "oranges 0.99", 
        "bananas 0.32"
       ]
      }
     ], 
     "prompt_number": 75
    }, 
    {
     "cell_type": "code", 
     "collapsed": false, 
     "input": [
      "prices.values()"
     ], 
     "language": "python", 
     "outputs": [
      {
       "output_type": "pyout", 
       "prompt_number": 78, 
       "text": [
        "[1.49, 0.49, 0.99, 0.32]"
       ]
      }
     ], 
     "prompt_number": 78
    }, 
    {
     "cell_type": "code", 
     "collapsed": false, 
     "input": [
      "sum = 0", 
      "prices = [0.49, 0.99, 1.49, 0.32]", 
      "for price in prices:", 
      "    sum = sum+price"
     ], 
     "language": "python", 
     "outputs": [], 
     "prompt_number": 81
    }, 
    {
     "cell_type": "code", 
     "collapsed": false, 
     "input": [
      "print sum"
     ], 
     "language": "python", 
     "outputs": [
      {
       "output_type": "stream", 
       "stream": "stdout", 
       "text": [
        "3.29"
       ]
      }
     ], 
     "prompt_number": 83
    }, 
    {
     "cell_type": "code", 
     "collapsed": false, 
     "input": [
      "print price"
     ], 
     "language": "python", 
     "outputs": [
      {
       "output_type": "stream", 
       "stream": "stdout", 
       "text": [
        "0.32"
       ]
      }
     ], 
     "prompt_number": 84
    }, 
    {
     "cell_type": "code", 
     "collapsed": false, 
     "input": [
      "sum"
     ], 
     "language": "python", 
     "outputs": [
      {
       "output_type": "pyout", 
       "prompt_number": 85, 
       "text": [
        "3.2899999999999996"
       ]
      }
     ], 
     "prompt_number": 85
    }, 
    {
     "cell_type": "code", 
     "collapsed": true, 
     "input": [
      "def square(x):", 
      "    return x * x"
     ], 
     "language": "python", 
     "outputs": [], 
     "prompt_number": 86
    }, 
    {
     "cell_type": "code", 
     "collapsed": false, 
     "input": [
      "square(2)"
     ], 
     "language": "python", 
     "outputs": [
      {
       "output_type": "pyout", 
       "prompt_number": 87, 
       "text": [
        "4"
       ]
      }
     ], 
     "prompt_number": 87
    }, 
    {
     "cell_type": "code", 
     "collapsed": true, 
     "input": [
      "def hello(time, name):", 
      "    \"\"\"", 
      "   Prints a message", 
      "    \"\"\"", 
      "    return \"Good \" + time + \", \" +name + \"!\"", 
      "    "
     ], 
     "language": "python", 
     "outputs": [], 
     "prompt_number": 101
    }, 
    {
     "cell_type": "code", 
     "collapsed": false, 
     "input": [
      "help(l)"
     ], 
     "language": "python", 
     "outputs": [
      {
       "output_type": "stream", 
       "stream": "stdout", 
       "text": [
        "Help on list object:", 
        "", 
        "class list(object)", 
        " |  list() -> new empty list", 
        " |  list(iterable) -> new list initialized from iterable's items", 
        " |  ", 
        " |  Methods defined here:", 
        " |  ", 
        " |  __add__(...)", 
        " |      x.__add__(y) <==> x+y", 
        " |  ", 
        " |  __contains__(...)", 
        " |      x.__contains__(y) <==> y in x", 
        " |  ", 
        " |  __delitem__(...)", 
        " |      x.__delitem__(y) <==> del x[y]", 
        " |  ", 
        " |  __delslice__(...)", 
        " |      x.__delslice__(i, j) <==> del x[i:j]", 
        " |      ", 
        " |      Use of negative indices is not supported.", 
        " |  ", 
        " |  __eq__(...)", 
        " |      x.__eq__(y) <==> x==y", 
        " |  ", 
        " |  __ge__(...)", 
        " |      x.__ge__(y) <==> x>=y", 
        " |  ", 
        " |  __getattribute__(...)", 
        " |      x.__getattribute__('name') <==> x.name", 
        " |  ", 
        " |  __getitem__(...)", 
        " |      x.__getitem__(y) <==> x[y]", 
        " |  ", 
        " |  __getslice__(...)", 
        " |      x.__getslice__(i, j) <==> x[i:j]", 
        " |      ", 
        " |      Use of negative indices is not supported.", 
        " |  ", 
        " |  __gt__(...)", 
        " |      x.__gt__(y) <==> x>y", 
        " |  ", 
        " |  __iadd__(...)", 
        " |      x.__iadd__(y) <==> x+=y", 
        " |  ", 
        " |  __imul__(...)", 
        " |      x.__imul__(y) <==> x*=y", 
        " |  ", 
        " |  __init__(...)", 
        " |      x.__init__(...) initializes x; see help(type(x)) for signature", 
        " |  ", 
        " |  __iter__(...)", 
        " |      x.__iter__() <==> iter(x)", 
        " |  ", 
        " |  __le__(...)", 
        " |      x.__le__(y) <==> x<=y", 
        " |  ", 
        " |  __len__(...)", 
        " |      x.__len__() <==> len(x)", 
        " |  ", 
        " |  __lt__(...)", 
        " |      x.__lt__(y) <==> x<y", 
        " |  ", 
        " |  __mul__(...)", 
        " |      x.__mul__(n) <==> x*n", 
        " |  ", 
        " |  __ne__(...)", 
        " |      x.__ne__(y) <==> x!=y", 
        " |  ", 
        " |  __repr__(...)", 
        " |      x.__repr__() <==> repr(x)", 
        " |  ", 
        " |  __reversed__(...)", 
        " |      L.__reversed__() -- return a reverse iterator over the list", 
        " |  ", 
        " |  __rmul__(...)", 
        " |      x.__rmul__(n) <==> n*x", 
        " |  ", 
        " |  __setitem__(...)", 
        " |      x.__setitem__(i, y) <==> x[i]=y", 
        " |  ", 
        " |  __setslice__(...)", 
        " |      x.__setslice__(i, j, y) <==> x[i:j]=y", 
        " |      ", 
        " |      Use  of negative indices is not supported.", 
        " |  ", 
        " |  __sizeof__(...)", 
        " |      L.__sizeof__() -- size of L in memory, in bytes", 
        " |  ", 
        " |  append(...)", 
        " |      L.append(object) -- append object to end", 
        " |  ", 
        " |  count(...)", 
        " |      L.count(value) -> integer -- return number of occurrences of value", 
        " |  ", 
        " |  extend(...)", 
        " |      L.extend(iterable) -- extend list by appending elements from the iterable", 
        " |  ", 
        " |  index(...)", 
        " |      L.index(value, [start, [stop]]) -> integer -- return first index of value.", 
        " |      Raises ValueError if the value is not present.", 
        " |  ", 
        " |  insert(...)", 
        " |      L.insert(index, object) -- insert object before index", 
        " |  ", 
        " |  pop(...)", 
        " |      L.pop([index]) -> item -- remove and return item at index (default last).", 
        " |      Raises IndexError if list is empty or index is out of range.", 
        " |  ", 
        " |  remove(...)", 
        " |      L.remove(value) -- remove first occurrence of value.", 
        " |      Raises ValueError if the value is not present.", 
        " |  ", 
        " |  reverse(...)", 
        " |      L.reverse() -- reverse *IN PLACE*", 
        " |  ", 
        " |  sort(...)", 
        " |      L.sort(cmp=None, key=None, reverse=False) -- stable sort *IN PLACE*;", 
        " |      cmp(x, y) -> -1, 0, 1", 
        " |  ", 
        " |  ----------------------------------------------------------------------", 
        " |  Data and other attributes defined here:", 
        " |  ", 
        " |  __hash__ = None", 
        " |  ", 
        " |  __new__ = <built-in method __new__ of type object>", 
        " |      T.__new__(S, ...) -> a new object with type S, a subtype of T", 
        ""
       ]
      }
     ], 
     "prompt_number": 104
    }, 
    {
     "cell_type": "code", 
     "collapsed": false, 
     "input": [
      "b"
     ], 
     "language": "python", 
     "outputs": [
      {
       "output_type": "pyout", 
       "prompt_number": 95, 
       "text": [
        "'Good afternoon, SC folks!'"
       ]
      }
     ], 
     "prompt_number": 95
    }, 
    {
     "cell_type": "code", 
     "collapsed": false, 
     "input": [
      "print b"
     ], 
     "language": "python", 
     "outputs": [
      {
       "output_type": "stream", 
       "stream": "stdout", 
       "text": [
        "Good afternoon, SC folks!"
       ]
      }
     ], 
     "prompt_number": 96
    }, 
    {
     "cell_type": "code", 
     "collapsed": true, 
     "input": [
      "f = open(\"animals.txt\",\"r\")"
     ], 
     "language": "python", 
     "outputs": [], 
     "prompt_number": 105
    }, 
    {
     "cell_type": "code", 
     "collapsed": true, 
     "input": [
      "a = f.readlines()"
     ], 
     "language": "python", 
     "outputs": [], 
     "prompt_number": 106
    }, 
    {
     "cell_type": "code", 
     "collapsed": false, 
     "input": [
      "a"
     ], 
     "language": "python", 
     "outputs": [
      {
       "output_type": "pyout", 
       "prompt_number": 107, 
       "text": [
        "['2011-04-22 21:06 Grizzly 36\\n',", 
        " '2011-04-23 14:12 Elk 25\\n',", 
        " '2011-04-23 10:24 Elk 26\\n',", 
        " '2011-04-23 20:08 Wolverine 31\\n',", 
        " '2011-04-23 18:46 Muskox 20\\n']"
       ]
      }
     ], 
     "prompt_number": 107
    }, 
    {
     "cell_type": "code", 
     "collapsed": true, 
     "input": [
      "f.seek(0)"
     ], 
     "language": "python", 
     "outputs": [], 
     "prompt_number": 108
    }, 
    {
     "cell_type": "code", 
     "collapsed": false, 
     "input": [
      "for line in f:", 
      "    print line"
     ], 
     "language": "python", 
     "outputs": [
      {
       "output_type": "stream", 
       "stream": "stdout", 
       "text": [
        "2011-04-22 21:06 Grizzly 36", 
        "", 
        "2011-04-23 14:12 Elk 25", 
        "", 
        "2011-04-23 10:24 Elk 26", 
        "", 
        "2011-04-23 20:08 Wolverine 31", 
        "", 
        "2011-04-23 18:46 Muskox 20", 
        ""
       ]
      }
     ], 
     "prompt_number": 109
    }, 
    {
     "cell_type": "code", 
     "collapsed": true, 
     "input": [
      "f.seek(0)"
     ], 
     "language": "python", 
     "outputs": [], 
     "prompt_number": 110
    }, 
    {
     "cell_type": "code", 
     "collapsed": false, 
     "input": [
      "for line in f:", 
      "    print line.split()"
     ], 
     "language": "python", 
     "outputs": [
      {
       "output_type": "stream", 
       "stream": "stdout", 
       "text": [
        "['2011-04-22', '21:06', 'Grizzly', '36']", 
        "['2011-04-23', '14:12', 'Elk', '25']", 
        "['2011-04-23', '10:24', 'Elk', '26']", 
        "['2011-04-23', '20:08', 'Wolverine', '31']", 
        "['2011-04-23', '18:46', 'Muskox', '20']"
       ]
      }
     ], 
     "prompt_number": 111
    }, 
    {
     "cell_type": "code", 
     "collapsed": false, 
     "input": [
      "parts = line.split()", 
      "parts"
     ], 
     "language": "python", 
     "outputs": [
      {
       "output_type": "pyout", 
       "prompt_number": 112, 
       "text": [
        "['2011-04-23', '18:46', 'Muskox', '20']"
       ]
      }
     ], 
     "prompt_number": 112
    }, 
    {
     "cell_type": "code", 
     "collapsed": false, 
     "input": [
      "int(parts[3])"
     ], 
     "language": "python", 
     "outputs": [
      {
       "output_type": "pyout", 
       "prompt_number": 114, 
       "text": [
        "20"
       ]
      }
     ], 
     "prompt_number": 114
    }, 
    {
     "cell_type": "code", 
     "collapsed": true, 
     "input": [
      "f.seek(0)"
     ], 
     "language": "python", 
     "outputs": [], 
     "prompt_number": 115
    }, 
    {
     "cell_type": "code", 
     "collapsed": true, 
     "input": [
      "dates = []", 
      "times =[]", 
      "animals = []", 
      "numbers = []", 
      "for line in f:", 
      "    date, time, animal, number = line.split()", 
      "    dates.append(date)", 
      "    times.append(time)", 
      "    animals.append(animal)", 
      "    numbers.append(int(number))"
     ], 
     "language": "python", 
     "outputs": [], 
     "prompt_number": 116
    }, 
    {
     "cell_type": "code", 
     "collapsed": false, 
     "input": [
      "numbers"
     ], 
     "language": "python", 
     "outputs": [
      {
       "output_type": "pyout", 
       "prompt_number": 117, 
       "text": [
        "[36, 25, 26, 31, 20]"
       ]
      }
     ], 
     "prompt_number": 117
    }, 
    {
     "cell_type": "code", 
     "collapsed": false, 
     "input": [
      "animals"
     ], 
     "language": "python", 
     "outputs": [
      {
       "output_type": "pyout", 
       "prompt_number": 118, 
       "text": [
        "['Grizzly', 'Elk', 'Elk', 'Wolverine', 'Muskox']"
       ]
      }
     ], 
     "prompt_number": 118
    }, 
    {
     "cell_type": "code", 
     "collapsed": false, 
     "input": [
      "dates"
     ], 
     "language": "python", 
     "outputs": [
      {
       "output_type": "pyout", 
       "prompt_number": 119, 
       "text": [
        "['2011-04-22', '2011-04-23', '2011-04-23', '2011-04-23', '2011-04-23']"
       ]
      }
     ], 
     "prompt_number": 119
    }, 
    {
     "cell_type": "code", 
     "collapsed": false, 
     "input": [
      "date"
     ], 
     "language": "python", 
     "outputs": [
      {
       "output_type": "pyout", 
       "prompt_number": 120, 
       "text": [
        "'2011-04-23'"
       ]
      }
     ], 
     "prompt_number": 120
    }, 
    {
     "cell_type": "code", 
     "collapsed": false, 
     "input": [
      "times"
     ], 
     "language": "python", 
     "outputs": [
      {
       "output_type": "pyout", 
       "prompt_number": 121, 
       "text": [
        "['21:06', '14:12', '10:24', '20:08', '18:46']"
       ]
      }
     ], 
     "prompt_number": 121
    }, 
    {
     "cell_type": "code", 
     "collapsed": true, 
     "input": [], 
     "language": "python", 
     "outputs": []
    }
   ]
  }
 ]
}